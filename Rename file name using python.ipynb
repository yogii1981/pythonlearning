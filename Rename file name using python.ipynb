{
 "cells": [
  {
   "cell_type": "code",
   "execution_count": 17,
   "metadata": {
    "collapsed": false
   },
   "outputs": [
    {
     "name": "stdout",
     "output_type": "stream",
     "text": [
      "['.DS_Store', 'athens.jpg', 'austin.jpg', 'bangalore.jpg', 'barcelona.jpg', 'beijing.jpg', 'berkeley.jpg', 'bogota.jpg', 'bristol.jpg', 'bucharest.jpg', 'buenos aires.jpg', 'cairo.jpg', 'chennai.jpg', 'chicago.jpg', 'colombo.jpg', 'dallas.jpg', 'delhi.jpg', 'edinbrugh.jpg', 'gainesville.jpg', 'houston.jpg', 'hyderabad.jpg', 'istanbul.jpg', 'ithaca.jpg', 'jacksonville.jpg', 'karachi.jpg', 'kiev.jpg', 'london.jpg', 'los angeles.jpg', 'madrid.jpg', 'manchester.jpg', 'miami.jpg', 'new york.jpg', 'oakland.jpg', 'pune.jpg', 'rochester.jpg', 'san diego.jpg', 'san jose.jpg', 'sao paulo.jpg', 'seattle.jpg', 'seoul.jpg', 'shanghai.jpg', 'singapore.jpg', 'sunnyvale.jpg', 'sydney.jpg', 'tel aviv.jpg']\n",
      "The current working directory is/Users/yogeshsharma\n",
      "Now The current working directory is/Users/yogeshsharma\n"
     ]
    }
   ],
   "source": [
    "import os\n",
    "def rename_files():\n",
    "    #(1)get the filenames from the folder - path of the folder\n",
    "    file_list = os.listdir(\"/Users/yogeshsharma/Documents/UDACITY/prank\")\n",
    "    print(file_list)\n",
    "    #define what is current directory\n",
    "    saved_path = os.getcwd()\n",
    "    print(\"The current working directory is\"+saved_path)\n",
    "    # change the directory \n",
    "    os.chdir(\"/Users/yogeshsharma/Documents/UDACITY/prank\")\n",
    "    #(2)rename each file in the folder\n",
    "    for file_name in file_list:\n",
    "    #file_name.translate is translate function\n",
    "        os.rename(file_name,file_name.translate (None,\"0123456789\"))\n",
    "    os.chdir(saved_path)\n",
    "rename_files ()\n",
    "    "
   ]
  },
  {
   "cell_type": "code",
   "execution_count": null,
   "metadata": {
    "collapsed": true
   },
   "outputs": [],
   "source": []
  }
 ],
 "metadata": {
  "kernelspec": {
   "display_name": "Python 2",
   "language": "python",
   "name": "python2"
  },
  "language_info": {
   "codemirror_mode": {
    "name": "ipython",
    "version": 2
   },
   "file_extension": ".py",
   "mimetype": "text/x-python",
   "name": "python",
   "nbconvert_exporter": "python",
   "pygments_lexer": "ipython2",
   "version": "2.7.11"
  }
 },
 "nbformat": 4,
 "nbformat_minor": 0
}
